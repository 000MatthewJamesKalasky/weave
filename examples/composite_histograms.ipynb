{
 "cells": [
  {
   "cell_type": "code",
   "execution_count": 1,
   "id": "d70e6c48",
   "metadata": {},
   "outputs": [],
   "source": [
    "import weave\n",
    "from weave.ecosystem import lens"
   ]
  },
  {
   "cell_type": "markdown",
   "id": "c3d89416",
   "metadata": {},
   "source": [
    "# Composite Histograms\n",
    "\n",
    "Let's plot some histograms.\n",
    "\n",
    "## Base case: One series, no customization"
   ]
  },
  {
   "cell_type": "code",
   "execution_count": 2,
   "id": "e739d513",
   "metadata": {},
   "outputs": [
    {
     "data": {
      "text/html": [
       "\n",
       "        <iframe\n",
       "            width=\"100%\"\n",
       "            height=\"400px\"\n",
       "            src=\"http://127.0.0.1:56294/__frontend/weave_jupyter/__frontend/weave_jupyter?fullScreen&expNode=%7B%22nodeType%22%3A%20%22output%22%2C%20%22type%22%3A%20%7B%22type%22%3A%20%22pil-image%22%2C%20%22width%22%3A%205%2C%20%22height%22%3A%205%2C%20%22mode%22%3A%20%22L%22%7D%2C%20%22fromOp%22%3A%20%7B%22name%22%3A%20%22op-histogram%22%2C%20%22inputs%22%3A%20%7B%22val_series%22%3A%20%7B%22nodeType%22%3A%20%22const%22%2C%20%22type%22%3A%20%7B%22type%22%3A%20%22const%22%2C%20%22valType%22%3A%20%7B%22type%22%3A%20%22list%22%2C%20%22objectType%22%3A%20%7B%22type%22%3A%20%22list%22%2C%20%22objectType%22%3A%20%22float%22%7D%7D%2C%20%22val%22%3A%20%5B%5B1.0%2C%202%2C%203%2C%20-1.4%5D%5D%7D%2C%20%22val%22%3A%20%5B%5B1.0%2C%202%2C%203%2C%20-1.4%5D%5D%7D%7D%7D%7D\"\n",
       "            frameborder=\"0\"\n",
       "            allowfullscreen\n",
       "            \n",
       "        ></iframe>\n",
       "        "
      ],
      "text/plain": [
       "<IPython.lib.display.IFrame at 0x1658b2370>"
      ]
     },
     "metadata": {},
     "output_type": "display_data"
    }
   ],
   "source": [
    "lens.histogram([[1.0, 2, 3, -1.4]])"
   ]
  },
  {
   "cell_type": "markdown",
   "id": "81fd5769",
   "metadata": {},
   "source": [
    "## Two series with customization"
   ]
  },
  {
   "cell_type": "code",
   "execution_count": 3,
   "id": "301be405",
   "metadata": {
    "scrolled": true
   },
   "outputs": [
    {
     "data": {
      "text/html": [
       "\n",
       "        <iframe\n",
       "            width=\"100%\"\n",
       "            height=\"400px\"\n",
       "            src=\"http://127.0.0.1:56294/__frontend/weave_jupyter/__frontend/weave_jupyter?fullScreen&expNode=%7B%22nodeType%22%3A%20%22output%22%2C%20%22type%22%3A%20%7B%22type%22%3A%20%22pil-image%22%2C%20%22width%22%3A%205%2C%20%22height%22%3A%205%2C%20%22mode%22%3A%20%22L%22%7D%2C%20%22fromOp%22%3A%20%7B%22name%22%3A%20%22op-histogram%22%2C%20%22inputs%22%3A%20%7B%22val_series%22%3A%20%7B%22nodeType%22%3A%20%22const%22%2C%20%22type%22%3A%20%7B%22type%22%3A%20%22const%22%2C%20%22valType%22%3A%20%7B%22type%22%3A%20%22list%22%2C%20%22objectType%22%3A%20%7B%22type%22%3A%20%22list%22%2C%20%22objectType%22%3A%20%22float%22%7D%7D%2C%20%22val%22%3A%20%5B%5B-1.8%2C%20-0.4%2C%200.1%2C%20-0.9%2C%20-0.77%2C%200.5%2C%200.7%2C%200.2%2C%200.1%2C%200.8%5D%2C%20%5B0.9%2C%200.4%2C%200.5%2C%200.6%2C%201.2%2C%201.5%2C%201.6%2C%201.7%2C%202%2C%202.4%2C%202.3%2C%202.1%5D%5D%7D%2C%20%22val%22%3A%20%5B%5B-1.8%2C%20-0.4%2C%200.1%2C%20-0.9%2C%20-0.77%2C%200.5%2C%200.7%2C%200.2%2C%200.1%2C%200.8%5D%2C%20%5B0.9%2C%200.4%2C%200.5%2C%200.6%2C%201.2%2C%201.5%2C%201.6%2C%201.7%2C%202%2C%202.4%2C%202.3%2C%202.1%5D%5D%7D%2C%20%22bin_size%22%3A%20%7B%22nodeType%22%3A%20%22const%22%2C%20%22type%22%3A%20%7B%22type%22%3A%20%22const%22%2C%20%22valType%22%3A%20%22float%22%2C%20%22val%22%3A%200.5%7D%2C%20%22val%22%3A%200.5%7D%2C%20%22chart_title%22%3A%20%7B%22nodeType%22%3A%20%22const%22%2C%20%22type%22%3A%20%7B%22type%22%3A%20%22const%22%2C%20%22valType%22%3A%20%22string%22%2C%20%22val%22%3A%20%22My%20Histogram%22%7D%2C%20%22val%22%3A%20%22My%20Histogram%22%7D%2C%20%22series_names%22%3A%20%7B%22nodeType%22%3A%20%22const%22%2C%20%22type%22%3A%20%7B%22type%22%3A%20%22const%22%2C%20%22valType%22%3A%20%7B%22type%22%3A%20%22list%22%2C%20%22objectType%22%3A%20%22string%22%7D%2C%20%22val%22%3A%20%5B%22series%20A%22%2C%20%22series%20B%22%5D%7D%2C%20%22val%22%3A%20%5B%22series%20A%22%2C%20%22series%20B%22%5D%7D%7D%7D%7D\"\n",
       "            frameborder=\"0\"\n",
       "            allowfullscreen\n",
       "            \n",
       "        ></iframe>\n",
       "        "
      ],
      "text/plain": [
       "<IPython.lib.display.IFrame at 0x16595bbe0>"
      ]
     },
     "metadata": {},
     "output_type": "display_data"
    }
   ],
   "source": [
    "lens.histogram([[-1.8, -0.4, 0.1, -0.9, -0.77, 0.5, 0.7, 0.2, 0.1, 0.8],[0.9, 0.4, 0.5, 0.6, 1.2, 1.5, 1.6, 1.7, 2, 2.4, 2.3, 2.1]], 0.5, \"My Histogram\", [\"series A\", \"series B\"])"
   ]
  },
  {
   "cell_type": "markdown",
   "id": "ee794dd4",
   "metadata": {},
   "source": [
    "## Three series"
   ]
  },
  {
   "cell_type": "code",
   "execution_count": 5,
   "id": "fba3acec",
   "metadata": {},
   "outputs": [
    {
     "data": {
      "text/html": [
       "\n",
       "        <iframe\n",
       "            width=\"100%\"\n",
       "            height=\"400px\"\n",
       "            src=\"http://127.0.0.1:56294/__frontend/weave_jupyter/__frontend/weave_jupyter?fullScreen&expNode=%7B%22nodeType%22%3A%20%22output%22%2C%20%22type%22%3A%20%7B%22type%22%3A%20%22pil-image%22%2C%20%22width%22%3A%205%2C%20%22height%22%3A%205%2C%20%22mode%22%3A%20%22L%22%7D%2C%20%22fromOp%22%3A%20%7B%22name%22%3A%20%22op-histogram%22%2C%20%22inputs%22%3A%20%7B%22val_series%22%3A%20%7B%22nodeType%22%3A%20%22const%22%2C%20%22type%22%3A%20%7B%22type%22%3A%20%22const%22%2C%20%22valType%22%3A%20%7B%22type%22%3A%20%22list%22%2C%20%22objectType%22%3A%20%7B%22type%22%3A%20%22list%22%2C%20%22objectType%22%3A%20%22float%22%7D%7D%2C%20%22val%22%3A%20%5B%5B1.0%2C%202%2C%203%2C%20-1.4%5D%2C%20%5B8.1%2C%202.2%2C%203.3%2C%205.6%2C%201.1%5D%2C%20%5B1.6%2C%201.7%2C%201.8%2C%20-2.0%2C%205%5D%5D%7D%2C%20%22val%22%3A%20%5B%5B1.0%2C%202%2C%203%2C%20-1.4%5D%2C%20%5B8.1%2C%202.2%2C%203.3%2C%205.6%2C%201.1%5D%2C%20%5B1.6%2C%201.7%2C%201.8%2C%20-2.0%2C%205%5D%5D%7D%2C%20%22bin_size%22%3A%20%7B%22nodeType%22%3A%20%22const%22%2C%20%22type%22%3A%20%7B%22type%22%3A%20%22const%22%2C%20%22valType%22%3A%20%22float%22%2C%20%22val%22%3A%200.5%7D%2C%20%22val%22%3A%200.5%7D%7D%7D%7D\"\n",
       "            frameborder=\"0\"\n",
       "            allowfullscreen\n",
       "            \n",
       "        ></iframe>\n",
       "        "
      ],
      "text/plain": [
       "<IPython.lib.display.IFrame at 0x165bc66a0>"
      ]
     },
     "metadata": {},
     "output_type": "display_data"
    }
   ],
   "source": [
    "lens.histogram([[1.0, 2, 3, -1.4],[8.1, 2.2, 3.3, 5.6, 1.1], [1.6, 1.7, 1.8, -2.0, 5]], 0.5)"
   ]
  },
  {
   "cell_type": "markdown",
   "id": "ac8ee3eb",
   "metadata": {},
   "source": [
    "## More than three series :)"
   ]
  },
  {
   "cell_type": "code",
   "execution_count": 6,
   "id": "070314da",
   "metadata": {},
   "outputs": [
    {
     "data": {
      "text/html": [
       "\n",
       "        <iframe\n",
       "            width=\"100%\"\n",
       "            height=\"400px\"\n",
       "            src=\"http://127.0.0.1:56294/__frontend/weave_jupyter/__frontend/weave_jupyter?fullScreen&expNode=%7B%22nodeType%22%3A%20%22output%22%2C%20%22type%22%3A%20%7B%22type%22%3A%20%22pil-image%22%2C%20%22width%22%3A%205%2C%20%22height%22%3A%205%2C%20%22mode%22%3A%20%22L%22%7D%2C%20%22fromOp%22%3A%20%7B%22name%22%3A%20%22op-histogram%22%2C%20%22inputs%22%3A%20%7B%22val_series%22%3A%20%7B%22nodeType%22%3A%20%22const%22%2C%20%22type%22%3A%20%7B%22type%22%3A%20%22const%22%2C%20%22valType%22%3A%20%7B%22type%22%3A%20%22list%22%2C%20%22objectType%22%3A%20%7B%22type%22%3A%20%22list%22%2C%20%22objectType%22%3A%20%22float%22%7D%7D%2C%20%22val%22%3A%20%5B%5B1.0%2C%20-20.0%2C%20-25.0%2C%20-15.0%2C%202.0%2C%203.0%2C%202.0%2C%202.0%2C%202.0%2C%202.0%2C%204.0%2C%205.0%2C%206.0%5D%2C%20%5B1.0%2C%201.0%2C%201.0%2C%201.0%2C%201.0%2C%202.0%2C%203.0%2C%203.0%2C%203.0%2C%203.0%2C%202.0%2C%202.0%2C%202.0%5D%2C%20%5B16.2%2C%2017.9%2C%2018.2%2C%202.3%2C%20-5.2%2C%206.0%2C%207.2%2C%20-10.9%2C%208.2%2C%2041.0%5D%2C%20%5B1.3%2C%202.2%2C%205.3%2C%207.7%2C%208.8%2C%209.0%2C%202.0%2C%203.2%2C%2043.7%2C%204.2%2C%205.1%2C%204.5%2C%206.9%5D%2C%20%5B1.0%2C%202.1%2C%203.0%2C%204.1%2C%2019.0%2C%206.0%2C%2012.2%2C%2014.9%2C%2015.0%2C%2016.1%2C%2017.2%5D%5D%7D%2C%20%22val%22%3A%20%5B%5B1.0%2C%20-20.0%2C%20-25.0%2C%20-15.0%2C%202.0%2C%203.0%2C%202.0%2C%202.0%2C%202.0%2C%202.0%2C%204.0%2C%205.0%2C%206.0%5D%2C%20%5B1.0%2C%201.0%2C%201.0%2C%201.0%2C%201.0%2C%202.0%2C%203.0%2C%203.0%2C%203.0%2C%203.0%2C%202.0%2C%202.0%2C%202.0%5D%2C%20%5B16.2%2C%2017.9%2C%2018.2%2C%202.3%2C%20-5.2%2C%206.0%2C%207.2%2C%20-10.9%2C%208.2%2C%2041.0%5D%2C%20%5B1.3%2C%202.2%2C%205.3%2C%207.7%2C%208.8%2C%209.0%2C%202.0%2C%203.2%2C%2043.7%2C%204.2%2C%205.1%2C%204.5%2C%206.9%5D%2C%20%5B1.0%2C%202.1%2C%203.0%2C%204.1%2C%2019.0%2C%206.0%2C%2012.2%2C%2014.9%2C%2015.0%2C%2016.1%2C%2017.2%5D%5D%7D%2C%20%22bin_size%22%3A%20%7B%22nodeType%22%3A%20%22const%22%2C%20%22type%22%3A%20%7B%22type%22%3A%20%22const%22%2C%20%22valType%22%3A%20%22float%22%2C%20%22val%22%3A%205.0%7D%2C%20%22val%22%3A%205.0%7D%7D%7D%7D\"\n",
       "            frameborder=\"0\"\n",
       "            allowfullscreen\n",
       "            \n",
       "        ></iframe>\n",
       "        "
      ],
      "text/plain": [
       "<IPython.lib.display.IFrame at 0x165bc4760>"
      ]
     },
     "metadata": {},
     "output_type": "display_data"
    }
   ],
   "source": [
    "lens.histogram([[1.0, -20.0, -25.0, -15.0, 2.0, 3.0, 2.0, 2.0, 2.0, 2.0, 4.0, 5.0, 6.0], [1.0, 1.0, 1.0, 1.0, 1.0, 2.0, 3.0, 3.0, 3.0, 3.0, 2.0, 2.0, 2.0],[16.2, 17.9, 18.2, 2.3, -5.2, 6.0, 7.2, -10.9, 8.2,41.0], [1.3, 2.2, 5.3, 7.7, 8.8, 9.0, 2.0, 3.2, 43.7, 4.2, 5.1, 4.5, 6.9], [1.0, 2.1, 3.0, 4.1, 19.0, 6.0, 12.2, 14.9, 15.0, 16.1, 17.2]], 5.0)"
   ]
  },
  {
   "cell_type": "code",
   "execution_count": 19,
   "id": "2245a600",
   "metadata": {},
   "outputs": [
    {
     "data": {
      "text/html": [
       "\n",
       "        <iframe\n",
       "            width=\"100%\"\n",
       "            height=\"400px\"\n",
       "            src=\"http://127.0.0.1:56294/__frontend/weave_jupyter/__frontend/weave_jupyter?fullScreen&expNode=%7B%22nodeType%22%3A%20%22output%22%2C%20%22type%22%3A%20%7B%22type%22%3A%20%22pil-image%22%2C%20%22width%22%3A%205%2C%20%22height%22%3A%205%2C%20%22mode%22%3A%20%22L%22%7D%2C%20%22fromOp%22%3A%20%7B%22name%22%3A%20%22op-run_accuracy_barchart%22%2C%20%22inputs%22%3A%20%7B%22runs%22%3A%20%7B%22nodeType%22%3A%20%22output%22%2C%20%22type%22%3A%20%7B%22type%22%3A%20%22runs%22%2C%20%22objectType%22%3A%20%22run%22%7D%2C%20%22fromOp%22%3A%20%7B%22name%22%3A%20%22project-runs%22%2C%20%22inputs%22%3A%20%7B%22project%22%3A%20%7B%22nodeType%22%3A%20%22output%22%2C%20%22type%22%3A%20%22project%22%2C%20%22fromOp%22%3A%20%7B%22name%22%3A%20%22root-project%22%2C%20%22inputs%22%3A%20%7B%22entityName%22%3A%20%7B%22nodeType%22%3A%20%22const%22%2C%20%22type%22%3A%20%7B%22type%22%3A%20%22const%22%2C%20%22valType%22%3A%20%22string%22%2C%20%22val%22%3A%20%22stacey%22%7D%2C%20%22val%22%3A%20%22stacey%22%7D%2C%20%22projectName%22%3A%20%7B%22nodeType%22%3A%20%22const%22%2C%20%22type%22%3A%20%7B%22type%22%3A%20%22const%22%2C%20%22valType%22%3A%20%22string%22%2C%20%22val%22%3A%20%22deep-drive%22%7D%2C%20%22val%22%3A%20%22deep-drive%22%7D%7D%7D%7D%7D%7D%7D%7D%7D%7D\"\n",
       "            frameborder=\"0\"\n",
       "            allowfullscreen\n",
       "            \n",
       "        ></iframe>\n",
       "        "
      ],
      "text/plain": [
       "<IPython.lib.display.IFrame at 0x167050bb0>"
      ]
     },
     "metadata": {},
     "output_type": "display_data"
    }
   ],
   "source": [
    "# super simple example for now to illustrate fetching W&B data & plotting histograms\n",
    "from wandb.apis import public as wandb_api\n",
    "from PIL import Image\n",
    "\n",
    "@weave.op(render_info={\"type\": \"function\"})\n",
    "def run_accuracy_barchart(runs: list[wandb_api.Run]) -> Image.Image:\n",
    "    runs = list(runs) #[:100] # could shorten this list\n",
    "    acc = [r.summary_metrics.get(\"acc\") or 0.0 for r in runs]\n",
    "    car_acc = [r.summary_metrics.get(\"car_acc\") or 0.0 for r in runs]\n",
    "    traffic_acc = [r.summary_metrics.get(\"traffic_acc\") or 0.0 for r in runs]\n",
    "    road_acc = [r.summary_metrics.get(\"road_acc\") or 0.0 for r in runs]\n",
    "    \n",
    "    # filter out NaNs\n",
    "    for l in [acc, car_acc, traffic_acc, road_acc]:\n",
    "        if \"NaN\" in l:\n",
    "            l = l.remove(\"NaN\")\n",
    "\n",
    "    return weave.use(lens.histogram([acc, car_acc, traffic_acc, road_acc],\n",
    "                                    bin_size=0.05,\n",
    "                                    chart_title=\"Semantic Segmentation Accuracy Across Experiments by Label Class\", \n",
    "                                    series_names=[\"Overall acc\", \"Car acc\", \"Traffic acc\", \"Road acc\"]\n",
    "                                   )\n",
    "                    )\n",
    "\n",
    "runs = weave.ops.project('stacey', 'deep-drive').runs()\n",
    "run_accuracy_barchart(runs)"
   ]
  }
 ],
 "metadata": {
  "kernelspec": {
   "display_name": "Python 3 (ipykernel)",
   "language": "python",
   "name": "python3"
  },
  "language_info": {
   "codemirror_mode": {
    "name": "ipython",
    "version": 3
   },
   "file_extension": ".py",
   "mimetype": "text/x-python",
   "name": "python",
   "nbconvert_exporter": "python",
   "pygments_lexer": "ipython3",
   "version": "3.9.7"
  }
 },
 "nbformat": 4,
 "nbformat_minor": 5
}
